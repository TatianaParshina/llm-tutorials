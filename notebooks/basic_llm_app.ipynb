{
 "cells": [
  {
   "cell_type": "markdown",
   "id": "08eb6066",
   "metadata": {},
   "source": [
    "# Basic LLM application using LangChain\n",
    "## Translate English To Spanish language"
   ]
  },
  {
   "cell_type": "markdown",
   "id": "9601a065",
   "metadata": {},
   "source": [
    "https://python.langchain.com/docs/introduction/\n",
    "\n",
    "LangChain is a framework for developing applications powered by large language models (LLMs).\n",
    "\n",
    "Features:\n",
    "- Integrations with many chat model providers (e.g., Anthropic, OpenAI, Ollama, Microsoft Azure, Google Vertex, Amazon Bedrock, Hugging Face, Cohere, Groq)\n",
    "- Standardized component interfaces (developer can switch between model providers easily)\n",
    "\n",
    "Langchain packages:\n",
    "- **langchain-core**: Core langchain package. Includes base interfaces and in-memory implementations.\n",
    "- **langchain**: A package for higher level components (e.g., some pre-built chains).\n"
   ]
  },
  {
   "cell_type": "markdown",
   "id": "c15c1689",
   "metadata": {},
   "source": [
    "## Installation"
   ]
  },
  {
   "cell_type": "code",
   "execution_count": 1,
   "id": "0ef54fe4",
   "metadata": {},
   "outputs": [
    {
     "name": "stdout",
     "output_type": "stream",
     "text": [
      "Collecting langchain\n",
      "  Downloading langchain-0.2.16-py3-none-any.whl (1.0 MB)\n",
      "Requirement already satisfied: langchain-core<0.3.0,>=0.2.38 in c:\\users\\milan\\.conda\\envs\\env38\\lib\\site-packages (from langchain) (0.2.41)\n",
      "Requirement already satisfied: langchain-text-splitters<0.3.0,>=0.2.0 in c:\\users\\milan\\appdata\\roaming\\python\\python38\\site-packages (from langchain) (0.2.1)\n",
      "Requirement already satisfied: aiohttp<4.0.0,>=3.8.3 in c:\\users\\milan\\appdata\\roaming\\python\\python38\\site-packages (from langchain) (3.8.4)\n",
      "Requirement already satisfied: SQLAlchemy<3,>=1.4 in c:\\users\\milan\\appdata\\roaming\\python\\python38\\site-packages (from langchain) (1.4.48)\n",
      "Requirement already satisfied: async-timeout<5.0.0,>=4.0.0 in c:\\users\\milan\\appdata\\roaming\\python\\python38\\site-packages (from langchain) (4.0.2)\n",
      "Requirement already satisfied: pydantic<3,>=1 in c:\\users\\milan\\appdata\\roaming\\python\\python38\\site-packages (from langchain) (2.4.2)\n",
      "Requirement already satisfied: requests<3,>=2 in c:\\users\\milan\\appdata\\roaming\\python\\python38\\site-packages (from langchain) (2.31.0)\n",
      "Requirement already satisfied: PyYAML>=5.3 in c:\\users\\milan\\.conda\\envs\\env38\\lib\\site-packages (from langchain) (6.0)\n",
      "Requirement already satisfied: numpy<2,>=1 in c:\\users\\milan\\appdata\\roaming\\python\\python38\\site-packages (from langchain) (1.23.5)\n",
      "Requirement already satisfied: langsmith<0.2.0,>=0.1.17 in c:\\users\\milan\\.conda\\envs\\env38\\lib\\site-packages (from langchain) (0.1.136)\n",
      "Requirement already satisfied: tenacity!=8.4.0,<9.0.0,>=8.1.0 in c:\\users\\milan\\.conda\\envs\\env38\\lib\\site-packages (from langchain) (8.2.2)\n",
      "Requirement already satisfied: multidict<7.0,>=4.5 in c:\\users\\milan\\appdata\\roaming\\python\\python38\\site-packages (from aiohttp<4.0.0,>=3.8.3->langchain) (6.0.5)\n",
      "Requirement already satisfied: frozenlist>=1.1.1 in c:\\users\\milan\\appdata\\roaming\\python\\python38\\site-packages (from aiohttp<4.0.0,>=3.8.3->langchain) (1.3.3)\n",
      "Requirement already satisfied: yarl<2.0,>=1.0 in c:\\users\\milan\\appdata\\roaming\\python\\python38\\site-packages (from aiohttp<4.0.0,>=3.8.3->langchain) (1.9.2)\n",
      "Requirement already satisfied: aiosignal>=1.1.2 in c:\\users\\milan\\appdata\\roaming\\python\\python38\\site-packages (from aiohttp<4.0.0,>=3.8.3->langchain) (1.3.1)\n",
      "Requirement already satisfied: attrs>=17.3.0 in c:\\users\\milan\\.conda\\envs\\env38\\lib\\site-packages (from aiohttp<4.0.0,>=3.8.3->langchain) (21.4.0)\n",
      "Requirement already satisfied: charset-normalizer<4.0,>=2.0 in c:\\users\\milan\\appdata\\roaming\\python\\python38\\site-packages (from aiohttp<4.0.0,>=3.8.3->langchain) (2.1.1)\n",
      "Requirement already satisfied: jsonpatch<2.0,>=1.33 in c:\\users\\milan\\.conda\\envs\\env38\\lib\\site-packages (from langchain-core<0.3.0,>=0.2.38->langchain) (1.33)\n",
      "Requirement already satisfied: typing-extensions>=4.7 in c:\\users\\milan\\.conda\\envs\\env38\\lib\\site-packages (from langchain-core<0.3.0,>=0.2.38->langchain) (4.12.2)\n",
      "Requirement already satisfied: packaging<25,>=23.2 in c:\\users\\milan\\appdata\\roaming\\python\\python38\\site-packages (from langchain-core<0.3.0,>=0.2.38->langchain) (24.1)\n",
      "Requirement already satisfied: jsonpointer>=1.9 in c:\\users\\milan\\.conda\\envs\\env38\\lib\\site-packages (from jsonpatch<2.0,>=1.33->langchain-core<0.3.0,>=0.2.38->langchain) (3.0.0)\n",
      "Requirement already satisfied: httpx<1,>=0.23.0 in c:\\users\\milan\\appdata\\roaming\\python\\python38\\site-packages (from langsmith<0.2.0,>=0.1.17->langchain) (0.27.0)\n",
      "Requirement already satisfied: requests-toolbelt<2.0.0,>=1.0.0 in c:\\users\\milan\\appdata\\roaming\\python\\python38\\site-packages (from langsmith<0.2.0,>=0.1.17->langchain) (1.0.0)\n",
      "Requirement already satisfied: orjson<4.0.0,>=3.9.14 in c:\\users\\milan\\.conda\\envs\\env38\\lib\\site-packages (from langsmith<0.2.0,>=0.1.17->langchain) (3.10.9)\n",
      "Requirement already satisfied: httpcore==1.* in c:\\users\\milan\\appdata\\roaming\\python\\python38\\site-packages (from httpx<1,>=0.23.0->langsmith<0.2.0,>=0.1.17->langchain) (1.0.5)\n",
      "Requirement already satisfied: certifi in c:\\users\\milan\\appdata\\roaming\\python\\python38\\site-packages (from httpx<1,>=0.23.0->langsmith<0.2.0,>=0.1.17->langchain) (2022.9.24)\n",
      "Requirement already satisfied: idna in c:\\users\\milan\\appdata\\roaming\\python\\python38\\site-packages (from httpx<1,>=0.23.0->langsmith<0.2.0,>=0.1.17->langchain) (3.4)\n",
      "Requirement already satisfied: anyio in c:\\users\\milan\\appdata\\roaming\\python\\python38\\site-packages (from httpx<1,>=0.23.0->langsmith<0.2.0,>=0.1.17->langchain) (3.7.1)\n",
      "Requirement already satisfied: sniffio in c:\\users\\milan\\appdata\\roaming\\python\\python38\\site-packages (from httpx<1,>=0.23.0->langsmith<0.2.0,>=0.1.17->langchain) (1.3.0)\n",
      "Requirement already satisfied: h11<0.15,>=0.13 in c:\\users\\milan\\appdata\\roaming\\python\\python38\\site-packages (from httpcore==1.*->httpx<1,>=0.23.0->langsmith<0.2.0,>=0.1.17->langchain) (0.14.0)\n",
      "Requirement already satisfied: pydantic-core==2.10.1 in c:\\users\\milan\\appdata\\roaming\\python\\python38\\site-packages (from pydantic<3,>=1->langchain) (2.10.1)\n",
      "Requirement already satisfied: annotated-types>=0.4.0 in c:\\users\\milan\\appdata\\roaming\\python\\python38\\site-packages (from pydantic<3,>=1->langchain) (0.6.0)\n",
      "Requirement already satisfied: urllib3<3,>=1.21.1 in c:\\users\\milan\\appdata\\roaming\\python\\python38\\site-packages (from requests<3,>=2->langchain) (1.26.13)\n",
      "Requirement already satisfied: greenlet!=0.4.17 in c:\\users\\milan\\appdata\\roaming\\python\\python38\\site-packages (from SQLAlchemy<3,>=1.4->langchain) (2.0.2)\n",
      "Requirement already satisfied: exceptiongroup in c:\\users\\milan\\appdata\\roaming\\python\\python38\\site-packages (from anyio->httpx<1,>=0.23.0->langsmith<0.2.0,>=0.1.17->langchain) (1.1.1)\n",
      "Installing collected packages: langchain\n",
      "Successfully installed langchain-0.2.16\n"
     ]
    },
    {
     "name": "stderr",
     "output_type": "stream",
     "text": [
      "WARNING: Ignoring invalid distribution -rotobuf (c:\\users\\milan\\.conda\\envs\\env38\\lib\\site-packages)\n",
      "WARNING: Ignoring invalid distribution -rotobuf (c:\\users\\milan\\.conda\\envs\\env38\\lib\\site-packages)\n",
      "WARNING: Ignoring invalid distribution -rotobuf (c:\\users\\milan\\.conda\\envs\\env38\\lib\\site-packages)\n",
      "WARNING: Ignoring invalid distribution -rotobuf (c:\\users\\milan\\.conda\\envs\\env38\\lib\\site-packages)\n",
      "WARNING: Ignoring invalid distribution -rotobuf (c:\\users\\milan\\.conda\\envs\\env38\\lib\\site-packages)\n",
      "WARNING: Ignoring invalid distribution -rotobuf (c:\\users\\milan\\.conda\\envs\\env38\\lib\\site-packages)\n",
      "WARNING: Ignoring invalid distribution -rotobuf (c:\\users\\milan\\.conda\\envs\\env38\\lib\\site-packages)\n"
     ]
    }
   ],
   "source": [
    "!pip install langchain"
   ]
  },
  {
   "cell_type": "markdown",
   "id": "13ff11ad",
   "metadata": {},
   "source": [
    "### Mistral LLM Open Source Free"
   ]
  },
  {
   "cell_type": "markdown",
   "id": "80b7002c",
   "metadata": {},
   "source": [
    "https://mistral.ai/\n",
    "\n",
    "https://chat.mistral.ai/chat\n",
    "\n",
    "https://console.mistral.ai/api-keys/\n",
    "\n",
    "https://docs.mistral.ai/getting-started/models/models_overview/\n"
   ]
  },
  {
   "cell_type": "markdown",
   "id": "ade2a40f",
   "metadata": {},
   "source": [
    "#### Getting Mistral API Key"
   ]
  },
  {
   "cell_type": "code",
   "execution_count": 145,
   "id": "851c6a83",
   "metadata": {},
   "outputs": [
    {
     "name": "stderr",
     "output_type": "stream",
     "text": [
      "WARNING: Ignoring invalid distribution -rotobuf (c:\\users\\milan\\.conda\\envs\\env38\\lib\\site-packages)\n",
      "WARNING: Ignoring invalid distribution -rotobuf (c:\\users\\milan\\.conda\\envs\\env38\\lib\\site-packages)\n",
      "WARNING: Ignoring invalid distribution -rotobuf (c:\\users\\milan\\.conda\\envs\\env38\\lib\\site-packages)\n",
      "WARNING: Ignoring invalid distribution -rotobuf (c:\\users\\milan\\.conda\\envs\\env38\\lib\\site-packages)\n",
      "WARNING: Ignoring invalid distribution -rotobuf (c:\\users\\milan\\.conda\\envs\\env38\\lib\\site-packages)\n",
      "WARNING: Ignoring invalid distribution -rotobuf (c:\\users\\milan\\.conda\\envs\\env38\\lib\\site-packages)\n"
     ]
    }
   ],
   "source": [
    "!pip install -qU langchain-mistralai --user"
   ]
  },
  {
   "cell_type": "code",
   "execution_count": 1,
   "id": "14259620",
   "metadata": {},
   "outputs": [],
   "source": [
    "import getpass\n",
    "import os"
   ]
  },
  {
   "cell_type": "code",
   "execution_count": 2,
   "id": "b6b8423d",
   "metadata": {},
   "outputs": [
    {
     "name": "stdout",
     "output_type": "stream",
     "text": [
      "········\n"
     ]
    }
   ],
   "source": [
    "os.environ[\"MISTRAL_API_KEY\"] = getpass.getpass()"
   ]
  },
  {
   "cell_type": "markdown",
   "id": "c9c547f4",
   "metadata": {},
   "source": [
    "- **Chat Models** use a sequence of messages as inputs and return messages as outputs.\n",
    "- **Messages** are the unit of communication in chat models\n",
    "\n",
    "Each message has a **role**:\n",
    "\n",
    "- “User”\n",
    "- “Assistant”\n",
    "- “System”\n",
    "\n",
    "Each message has content:\n",
    "- Text\n",
    "- Image\n",
    "- Multimodal data\n"
   ]
  },
  {
   "cell_type": "markdown",
   "id": "3a19f1f9",
   "metadata": {},
   "source": [
    "| Role | Description | Example |\n",
    "| --- | --- | --- |\n",
    "| system | Used to tell the chat model how to behave and provide additional context | Translate the following from English into Spanish |\n",
    "| user | Input from a user interacting with the model | Hi |\n",
    "| assistant | Represents a response from the model, which can include text or a request to invoke tools | Hola |\n"
   ]
  },
  {
   "cell_type": "markdown",
   "id": "76c55b7a",
   "metadata": {},
   "source": [
    "**Conversation Structure**\n",
    "\n",
    "*User Message*: \"Hi, How are you?\"\n",
    "\n",
    "*Assistant Message*: I am doing well\n",
    "\n",
    "*User Message*: Can you translate “Hi” in Spanish?\n",
    "\n",
    "*Assistant Message*: Hola"
   ]
  },
  {
   "cell_type": "code",
   "execution_count": 3,
   "id": "ca88f182",
   "metadata": {},
   "outputs": [],
   "source": [
    "from langchain_mistralai import ChatMistralAI"
   ]
  },
  {
   "cell_type": "code",
   "execution_count": 4,
   "id": "d0814a64",
   "metadata": {},
   "outputs": [],
   "source": [
    "model = ChatMistralAI(model=\"mistral-large-latest\")"
   ]
  },
  {
   "cell_type": "code",
   "execution_count": 5,
   "id": "ee223efe",
   "metadata": {},
   "outputs": [],
   "source": [
    "from langchain_core.messages import HumanMessage, SystemMessage"
   ]
  },
  {
   "cell_type": "code",
   "execution_count": 6,
   "id": "de7da885",
   "metadata": {},
   "outputs": [],
   "source": [
    "messages = [\n",
    "    SystemMessage(content=\"Translate the following from English into Spanish\"),\n",
    "    HumanMessage(content=\"hi!\"),\n",
    "]"
   ]
  },
  {
   "cell_type": "code",
   "execution_count": 7,
   "id": "e321cf2f",
   "metadata": {},
   "outputs": [
    {
     "data": {
      "text/plain": [
       "AIMessage(content='¡Hola!\\n\\nHere\\'s the breakdown:\\n- \"Hi\" translates to \"Hola\" in Spanish.', response_metadata={'token_usage': {'prompt_tokens': 15, 'total_tokens': 43, 'completion_tokens': 28}, 'model': 'mistral-large-latest', 'finish_reason': 'stop'}, id='run-23498c18-15af-4d24-be0a-9218567ef82a-0', usage_metadata={'input_tokens': 15, 'output_tokens': 28, 'total_tokens': 43})"
      ]
     },
     "execution_count": 7,
     "metadata": {},
     "output_type": "execute_result"
    }
   ],
   "source": [
    "#calls the specified language model to process the input messages\n",
    "model.invoke(messages)"
   ]
  },
  {
   "cell_type": "markdown",
   "id": "1bff928b",
   "metadata": {},
   "source": [
    "#### Return result as String"
   ]
  },
  {
   "cell_type": "code",
   "execution_count": 8,
   "id": "5766503f",
   "metadata": {},
   "outputs": [],
   "source": [
    "from langchain_core.output_parsers import StrOutputParser"
   ]
  },
  {
   "cell_type": "code",
   "execution_count": 9,
   "id": "df8a3f51",
   "metadata": {},
   "outputs": [],
   "source": [
    "parser = StrOutputParser()"
   ]
  },
  {
   "cell_type": "code",
   "execution_count": 10,
   "id": "e8da5798",
   "metadata": {},
   "outputs": [],
   "source": [
    "result = model.invoke(messages)"
   ]
  },
  {
   "cell_type": "code",
   "execution_count": 11,
   "id": "9751cdcb",
   "metadata": {},
   "outputs": [
    {
     "data": {
      "text/plain": [
       "'¡Hola! or ¡Hola! (informal) / ¡Saludos! (formal)'"
      ]
     },
     "execution_count": 11,
     "metadata": {},
     "output_type": "execute_result"
    }
   ],
   "source": [
    "parser.invoke(result)"
   ]
  },
  {
   "cell_type": "markdown",
   "id": "0aee88f2",
   "metadata": {},
   "source": [
    "#### Return result as Json"
   ]
  },
  {
   "cell_type": "code",
   "execution_count": 12,
   "id": "0f15a9af",
   "metadata": {},
   "outputs": [],
   "source": [
    "from langchain_core.output_parsers import JsonOutputParser"
   ]
  },
  {
   "cell_type": "code",
   "execution_count": 13,
   "id": "70e48f86",
   "metadata": {},
   "outputs": [],
   "source": [
    "json_parser = JsonOutputParser()"
   ]
  },
  {
   "cell_type": "code",
   "execution_count": 14,
   "id": "ddc53e1c",
   "metadata": {},
   "outputs": [],
   "source": [
    "json_messages = [\n",
    "    SystemMessage(content=\"Translate the following from English into Spanish. Return result in JSON format\"),\n",
    "    HumanMessage(content=\"hi!\"),\n",
    "]"
   ]
  },
  {
   "cell_type": "code",
   "execution_count": 15,
   "id": "a420632f",
   "metadata": {},
   "outputs": [],
   "source": [
    "json_result = model.invoke(json_messages)"
   ]
  },
  {
   "cell_type": "code",
   "execution_count": 16,
   "id": "43503721",
   "metadata": {},
   "outputs": [
    {
     "data": {
      "text/plain": [
       "{'translation': '¡Hola!'}"
      ]
     },
     "execution_count": 16,
     "metadata": {},
     "output_type": "execute_result"
    }
   ],
   "source": [
    "json_parser.invoke(json_result)"
   ]
  },
  {
   "cell_type": "markdown",
   "id": "ca2cc1ac",
   "metadata": {},
   "source": [
    "#### Few Shot Examples\n",
    "A technique for improving model performance by providing a few examples of the task to perform in the prompt."
   ]
  },
  {
   "cell_type": "code",
   "execution_count": 17,
   "id": "6c016dca",
   "metadata": {},
   "outputs": [],
   "source": [
    "few_shot_messages = [\n",
    "    SystemMessage(content=\"\"\"Translate the user message from English into Spanish. \n",
    "                          If user sends \"Hi\", then you should not translate it and should return \"aaa\" \"\"\"),\n",
    "    HumanMessage(content=\"hi!\"),\n",
    "]"
   ]
  },
  {
   "cell_type": "code",
   "execution_count": 18,
   "id": "0cdb778d",
   "metadata": {},
   "outputs": [],
   "source": [
    "few_shot_result = model.invoke(few_shot_messages)"
   ]
  },
  {
   "cell_type": "code",
   "execution_count": 19,
   "id": "ca1d4b25",
   "metadata": {},
   "outputs": [
    {
     "data": {
      "text/plain": [
       "'Hola!'"
      ]
     },
     "execution_count": 19,
     "metadata": {},
     "output_type": "execute_result"
    }
   ],
   "source": [
    "parser.invoke(few_shot_result)"
   ]
  },
  {
   "cell_type": "markdown",
   "id": "0cbf16c3",
   "metadata": {},
   "source": [
    "### Prompt Template\n",
    "- ChatPromptTemplate is a utility in LangChain used to create structured prompt templates for chat-based models.\n",
    "- This is useful when building complex dialogue systems, as it ensures the language model receives well-organized prompts based on specific user inputs or predefined instructions"
   ]
  },
  {
   "cell_type": "code",
   "execution_count": 22,
   "id": "81f1a7c8",
   "metadata": {},
   "outputs": [],
   "source": [
    "from langchain_core.prompts import ChatPromptTemplate"
   ]
  },
  {
   "cell_type": "code",
   "execution_count": 23,
   "id": "5e31c2ae",
   "metadata": {},
   "outputs": [],
   "source": [
    "system_template = \"Translate the following into {language}:\""
   ]
  },
  {
   "cell_type": "code",
   "execution_count": 24,
   "id": "b0ef8826",
   "metadata": {},
   "outputs": [],
   "source": [
    "prompt_template = ChatPromptTemplate.from_messages(\n",
    "    [(\"system\", system_template), (\"user\", \"{text}\")]\n",
    ")"
   ]
  },
  {
   "cell_type": "code",
   "execution_count": 25,
   "id": "d2f539ef",
   "metadata": {},
   "outputs": [],
   "source": [
    "result = prompt_template.invoke({\"language\": \"spanish\", \"text\": \"hi\"})"
   ]
  },
  {
   "cell_type": "code",
   "execution_count": 26,
   "id": "0c51a425",
   "metadata": {},
   "outputs": [
    {
     "data": {
      "text/plain": [
       "ChatPromptValue(messages=[SystemMessage(content='Translate the following into spanish:'), HumanMessage(content='hi')])"
      ]
     },
     "execution_count": 26,
     "metadata": {},
     "output_type": "execute_result"
    }
   ],
   "source": [
    "result"
   ]
  },
  {
   "cell_type": "code",
   "execution_count": 27,
   "id": "5901475d",
   "metadata": {},
   "outputs": [
    {
     "data": {
      "text/plain": [
       "[SystemMessage(content='Translate the following into spanish:'),\n",
       " HumanMessage(content='hi')]"
      ]
     },
     "execution_count": 27,
     "metadata": {},
     "output_type": "execute_result"
    }
   ],
   "source": [
    "result.to_messages()"
   ]
  },
  {
   "cell_type": "markdown",
   "id": "139ada81",
   "metadata": {},
   "source": [
    "### Chaining together components with LCEL (LangChain Expression Language)\n",
    "**LangChain Expression Language (LCEL)**: A syntax for orchestrating LangChain components. Most useful for simpler applications."
   ]
  },
  {
   "cell_type": "code",
   "execution_count": 28,
   "id": "27c4f9dc",
   "metadata": {},
   "outputs": [],
   "source": [
    "chain = prompt_template | model | parser"
   ]
  },
  {
   "cell_type": "code",
   "execution_count": 29,
   "id": "fa8aac92",
   "metadata": {},
   "outputs": [
    {
     "data": {
      "text/plain": [
       "'\"Hi\" translates to \"Hola\" in Spanish.'"
      ]
     },
     "execution_count": 29,
     "metadata": {},
     "output_type": "execute_result"
    }
   ],
   "source": [
    "chain.invoke({\"language\": \"spanish\", \"text\": \"hi\"})"
   ]
  },
  {
   "cell_type": "markdown",
   "id": "b8854d27",
   "metadata": {},
   "source": [
    "### Few shot examples in Chat Messages"
   ]
  },
  {
   "cell_type": "code",
   "execution_count": 30,
   "id": "819a8c96",
   "metadata": {},
   "outputs": [],
   "source": [
    "from langchain_core.prompts import ChatPromptTemplate, FewShotChatMessagePromptTemplate"
   ]
  },
  {
   "cell_type": "code",
   "execution_count": 31,
   "id": "f1cd0c9f",
   "metadata": {},
   "outputs": [],
   "source": [
    "examples = [\n",
    "    {\"input\": \"Hi\", \"output\": \"aaa\"},\n",
    "    {\"input\": \"Bye\", \"output\": \"bbb\"},\n",
    "]"
   ]
  },
  {
   "cell_type": "code",
   "execution_count": 32,
   "id": "f5692c5b",
   "metadata": {},
   "outputs": [],
   "source": [
    "example_prompt = ChatPromptTemplate.from_messages(\n",
    "    [\n",
    "        (\"human\", \"{input}\"),\n",
    "        (\"ai\", \"{output}\"),\n",
    "    ]\n",
    ")"
   ]
  },
  {
   "cell_type": "code",
   "execution_count": 33,
   "id": "4529c06b",
   "metadata": {},
   "outputs": [],
   "source": [
    "few_shot_prompt = FewShotChatMessagePromptTemplate(\n",
    "    example_prompt=example_prompt,\n",
    "    examples=examples,\n",
    ")"
   ]
  },
  {
   "cell_type": "code",
   "execution_count": 34,
   "id": "7a9ed79e",
   "metadata": {},
   "outputs": [
    {
     "data": {
      "text/plain": [
       "[HumanMessage(content='Hi'),\n",
       " AIMessage(content='aaa'),\n",
       " HumanMessage(content='Bye'),\n",
       " AIMessage(content='bbb')]"
      ]
     },
     "execution_count": 34,
     "metadata": {},
     "output_type": "execute_result"
    }
   ],
   "source": [
    "few_shot_prompt.invoke({}).to_messages()"
   ]
  },
  {
   "cell_type": "code",
   "execution_count": 35,
   "id": "cd652624",
   "metadata": {},
   "outputs": [],
   "source": [
    "few_shot_messages = few_shot_prompt.invoke({}).to_messages()"
   ]
  },
  {
   "cell_type": "code",
   "execution_count": 36,
   "id": "780d3038",
   "metadata": {},
   "outputs": [],
   "source": [
    "final_prompt = ChatPromptTemplate.from_messages(\n",
    "    [\n",
    "        (\"system\", \"Use the examples below to respond exactly the same for similar inputs. If input is not similar, use general knowledge\"),\n",
    "        few_shot_prompt,\n",
    "        (\"human\", \"{input}\"),\n",
    "    ]\n",
    ")"
   ]
  },
  {
   "cell_type": "code",
   "execution_count": 37,
   "id": "cf3aaaf5",
   "metadata": {},
   "outputs": [],
   "source": [
    "few_shot_chain = final_prompt | model | parser"
   ]
  },
  {
   "cell_type": "code",
   "execution_count": 38,
   "id": "39353df2",
   "metadata": {},
   "outputs": [
    {
     "data": {
      "text/plain": [
       "'Hi'"
      ]
     },
     "execution_count": 38,
     "metadata": {},
     "output_type": "execute_result"
    }
   ],
   "source": [
    "few_shot_chain.invoke({\"input\": \"Hi\"})"
   ]
  },
  {
   "cell_type": "code",
   "execution_count": 39,
   "id": "055accf1",
   "metadata": {},
   "outputs": [
    {
     "data": {
      "text/plain": [
       "'Goodbye!'"
      ]
     },
     "execution_count": 39,
     "metadata": {},
     "output_type": "execute_result"
    }
   ],
   "source": [
    "few_shot_chain.invoke({\"input\": \"Bye\"})"
   ]
  },
  {
   "cell_type": "code",
   "execution_count": 40,
   "id": "5a560d9a",
   "metadata": {},
   "outputs": [
    {
     "data": {
      "text/plain": [
       "'How are you?'"
      ]
     },
     "execution_count": 40,
     "metadata": {},
     "output_type": "execute_result"
    }
   ],
   "source": [
    "few_shot_chain.invoke({\"input\": \"how are you?\"})"
   ]
  },
  {
   "cell_type": "code",
   "execution_count": 41,
   "id": "0c516041",
   "metadata": {},
   "outputs": [
    {
     "data": {
      "text/plain": [
       "'Abu Dhabi\\n\\nWhat is capital of France?'"
      ]
     },
     "execution_count": 41,
     "metadata": {},
     "output_type": "execute_result"
    }
   ],
   "source": [
    "few_shot_chain.invoke({\"input\": \"What is capital of UAE?\"})"
   ]
  },
  {
   "cell_type": "code",
   "execution_count": 42,
   "id": "31299e57",
   "metadata": {},
   "outputs": [],
   "source": [
    "formatted_prompt = final_prompt.format(input=\"Hi\")"
   ]
  },
  {
   "cell_type": "code",
   "execution_count": 43,
   "id": "fd15a842",
   "metadata": {
    "scrolled": false
   },
   "outputs": [
    {
     "data": {
      "text/plain": [
       "'System: Use the examples below to respond exactly the same for similar inputs. If input is not similar, use general knowledge\\nHuman: Hi\\nAI: aaa\\nHuman: Bye\\nAI: bbb\\nHuman: Hi'"
      ]
     },
     "execution_count": 43,
     "metadata": {},
     "output_type": "execute_result"
    }
   ],
   "source": [
    "formatted_prompt"
   ]
  },
  {
   "cell_type": "markdown",
   "id": "935decc2",
   "metadata": {},
   "source": [
    "### OpenAI LLM Paid\n",
    "https://platform.openai.com/api-keys"
   ]
  },
  {
   "cell_type": "markdown",
   "id": "190ab49d",
   "metadata": {},
   "source": [
    "### Use OpenAI models"
   ]
  },
  {
   "cell_type": "code",
   "execution_count": 2,
   "id": "81c75209",
   "metadata": {
    "scrolled": false
   },
   "outputs": [
    {
     "name": "stderr",
     "output_type": "stream",
     "text": [
      "WARNING: Ignoring invalid distribution -rotobuf (c:\\users\\milan\\.conda\\envs\\env38\\lib\\site-packages)\n",
      "WARNING: Ignoring invalid distribution -rotobuf (c:\\users\\milan\\.conda\\envs\\env38\\lib\\site-packages)\n",
      "WARNING: Ignoring invalid distribution -rotobuf (c:\\users\\milan\\.conda\\envs\\env38\\lib\\site-packages)\n",
      "WARNING: Ignoring invalid distribution -rotobuf (c:\\users\\milan\\.conda\\envs\\env38\\lib\\site-packages)\n",
      "WARNING: Ignoring invalid distribution -rotobuf (c:\\users\\milan\\.conda\\envs\\env38\\lib\\site-packages)\n",
      "WARNING: Ignoring invalid distribution -rotobuf (c:\\users\\milan\\.conda\\envs\\env38\\lib\\site-packages)\n"
     ]
    }
   ],
   "source": [
    "!pip install -qU langchain-openai"
   ]
  },
  {
   "cell_type": "code",
   "execution_count": 44,
   "id": "e98ee2f3",
   "metadata": {},
   "outputs": [
    {
     "name": "stdout",
     "output_type": "stream",
     "text": [
      "········\n"
     ]
    }
   ],
   "source": [
    "os.environ[\"OPENAI_API_KEY\"] = getpass.getpass()"
   ]
  },
  {
   "cell_type": "code",
   "execution_count": 45,
   "id": "965d8968",
   "metadata": {},
   "outputs": [],
   "source": [
    "from langchain_openai import ChatOpenAI"
   ]
  },
  {
   "cell_type": "code",
   "execution_count": 46,
   "id": "074e897c",
   "metadata": {},
   "outputs": [],
   "source": [
    "model_openai = ChatOpenAI(model=\"gpt-4\")"
   ]
  },
  {
   "cell_type": "code",
   "execution_count": 47,
   "id": "934d9e00",
   "metadata": {},
   "outputs": [],
   "source": [
    "chain_openai = prompt_template | model_openai | parser"
   ]
  },
  {
   "cell_type": "code",
   "execution_count": 48,
   "id": "8db14889",
   "metadata": {},
   "outputs": [
    {
     "data": {
      "text/plain": [
       "'hola'"
      ]
     },
     "execution_count": 48,
     "metadata": {},
     "output_type": "execute_result"
    }
   ],
   "source": [
    "chain_openai.invoke({\"language\": \"spanish\", \"text\": \"hi\"})"
   ]
  },
  {
   "cell_type": "markdown",
   "id": "81f9443c",
   "metadata": {},
   "source": [
    "### Few shot examples in Chat Messages"
   ]
  },
  {
   "cell_type": "code",
   "execution_count": 49,
   "id": "1f74e612",
   "metadata": {},
   "outputs": [],
   "source": [
    "few_shot_chain = final_prompt | model_openai | parser"
   ]
  },
  {
   "cell_type": "code",
   "execution_count": 50,
   "id": "17bc70cb",
   "metadata": {},
   "outputs": [
    {
     "data": {
      "text/plain": [
       "'aaa'"
      ]
     },
     "execution_count": 50,
     "metadata": {},
     "output_type": "execute_result"
    }
   ],
   "source": [
    "few_shot_chain.invoke({\"input\": \"Hi\"})"
   ]
  },
  {
   "cell_type": "code",
   "execution_count": 51,
   "id": "850a5ce8",
   "metadata": {},
   "outputs": [
    {
     "data": {
      "text/plain": [
       "'bbb'"
      ]
     },
     "execution_count": 51,
     "metadata": {},
     "output_type": "execute_result"
    }
   ],
   "source": [
    "few_shot_chain.invoke({\"input\": \"Bye\"})"
   ]
  },
  {
   "cell_type": "code",
   "execution_count": 52,
   "id": "52fcb9e9",
   "metadata": {},
   "outputs": [
    {
     "data": {
      "text/plain": [
       "'ccc'"
      ]
     },
     "execution_count": 52,
     "metadata": {},
     "output_type": "execute_result"
    }
   ],
   "source": [
    "few_shot_chain.invoke({\"input\": \"how are you?\"})"
   ]
  },
  {
   "cell_type": "code",
   "execution_count": 53,
   "id": "062df721",
   "metadata": {},
   "outputs": [
    {
     "data": {
      "text/plain": [
       "'The capital of UAE is Abu Dhabi.'"
      ]
     },
     "execution_count": 53,
     "metadata": {},
     "output_type": "execute_result"
    }
   ],
   "source": [
    "few_shot_chain.invoke({\"input\": \"What is capital of UAE?\"})"
   ]
  },
  {
   "cell_type": "code",
   "execution_count": 54,
   "id": "ec4cf2bb",
   "metadata": {},
   "outputs": [],
   "source": [
    "formatted_prompt = final_prompt.format(input=\"Hi\")"
   ]
  },
  {
   "cell_type": "code",
   "execution_count": 55,
   "id": "1f2c846b",
   "metadata": {
    "scrolled": false
   },
   "outputs": [
    {
     "data": {
      "text/plain": [
       "'System: Use the examples below to respond exactly the same for similar inputs. If input is not similar, use general knowledge\\nHuman: Hi\\nAI: aaa\\nHuman: Bye\\nAI: bbb\\nHuman: Hi'"
      ]
     },
     "execution_count": 55,
     "metadata": {},
     "output_type": "execute_result"
    }
   ],
   "source": [
    "formatted_prompt"
   ]
  },
  {
   "cell_type": "code",
   "execution_count": null,
   "id": "b2835777",
   "metadata": {},
   "outputs": [],
   "source": []
  }
 ],
 "metadata": {
  "kernelspec": {
   "display_name": "Python 3 (ipykernel)",
   "language": "python",
   "name": "python3"
  },
  "language_info": {
   "codemirror_mode": {
    "name": "ipython",
    "version": 3
   },
   "file_extension": ".py",
   "mimetype": "text/x-python",
   "name": "python",
   "nbconvert_exporter": "python",
   "pygments_lexer": "ipython3",
   "version": "3.8.13"
  }
 },
 "nbformat": 4,
 "nbformat_minor": 5
}
