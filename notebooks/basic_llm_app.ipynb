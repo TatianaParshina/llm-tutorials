{
 "cells": [
  {
   "cell_type": "markdown",
   "id": "2def7e81",
   "metadata": {},
   "source": [
    "# Basic LLM application\n",
    "## Translate English To Spanish language"
   ]
  },
  {
   "cell_type": "markdown",
   "id": "4b975589",
   "metadata": {},
   "source": [
    "## Installation"
   ]
  },
  {
   "cell_type": "code",
   "execution_count": 1,
   "id": "3ced9443",
   "metadata": {},
   "outputs": [
    {
     "name": "stdout",
     "output_type": "stream",
     "text": [
      "Collecting langchain\n",
      "  Downloading langchain-0.2.16-py3-none-any.whl (1.0 MB)\n",
      "Requirement already satisfied: langchain-core<0.3.0,>=0.2.38 in c:\\users\\milan\\.conda\\envs\\env38\\lib\\site-packages (from langchain) (0.2.41)\n",
      "Requirement already satisfied: langchain-text-splitters<0.3.0,>=0.2.0 in c:\\users\\milan\\appdata\\roaming\\python\\python38\\site-packages (from langchain) (0.2.1)\n",
      "Requirement already satisfied: aiohttp<4.0.0,>=3.8.3 in c:\\users\\milan\\appdata\\roaming\\python\\python38\\site-packages (from langchain) (3.8.4)\n",
      "Requirement already satisfied: SQLAlchemy<3,>=1.4 in c:\\users\\milan\\appdata\\roaming\\python\\python38\\site-packages (from langchain) (1.4.48)\n",
      "Requirement already satisfied: async-timeout<5.0.0,>=4.0.0 in c:\\users\\milan\\appdata\\roaming\\python\\python38\\site-packages (from langchain) (4.0.2)\n",
      "Requirement already satisfied: pydantic<3,>=1 in c:\\users\\milan\\appdata\\roaming\\python\\python38\\site-packages (from langchain) (2.4.2)\n",
      "Requirement already satisfied: requests<3,>=2 in c:\\users\\milan\\appdata\\roaming\\python\\python38\\site-packages (from langchain) (2.31.0)\n",
      "Requirement already satisfied: PyYAML>=5.3 in c:\\users\\milan\\.conda\\envs\\env38\\lib\\site-packages (from langchain) (6.0)\n",
      "Requirement already satisfied: numpy<2,>=1 in c:\\users\\milan\\appdata\\roaming\\python\\python38\\site-packages (from langchain) (1.23.5)\n",
      "Requirement already satisfied: langsmith<0.2.0,>=0.1.17 in c:\\users\\milan\\.conda\\envs\\env38\\lib\\site-packages (from langchain) (0.1.136)\n",
      "Requirement already satisfied: tenacity!=8.4.0,<9.0.0,>=8.1.0 in c:\\users\\milan\\.conda\\envs\\env38\\lib\\site-packages (from langchain) (8.2.2)\n",
      "Requirement already satisfied: multidict<7.0,>=4.5 in c:\\users\\milan\\appdata\\roaming\\python\\python38\\site-packages (from aiohttp<4.0.0,>=3.8.3->langchain) (6.0.5)\n",
      "Requirement already satisfied: frozenlist>=1.1.1 in c:\\users\\milan\\appdata\\roaming\\python\\python38\\site-packages (from aiohttp<4.0.0,>=3.8.3->langchain) (1.3.3)\n",
      "Requirement already satisfied: yarl<2.0,>=1.0 in c:\\users\\milan\\appdata\\roaming\\python\\python38\\site-packages (from aiohttp<4.0.0,>=3.8.3->langchain) (1.9.2)\n",
      "Requirement already satisfied: aiosignal>=1.1.2 in c:\\users\\milan\\appdata\\roaming\\python\\python38\\site-packages (from aiohttp<4.0.0,>=3.8.3->langchain) (1.3.1)\n",
      "Requirement already satisfied: attrs>=17.3.0 in c:\\users\\milan\\.conda\\envs\\env38\\lib\\site-packages (from aiohttp<4.0.0,>=3.8.3->langchain) (21.4.0)\n",
      "Requirement already satisfied: charset-normalizer<4.0,>=2.0 in c:\\users\\milan\\appdata\\roaming\\python\\python38\\site-packages (from aiohttp<4.0.0,>=3.8.3->langchain) (2.1.1)\n",
      "Requirement already satisfied: jsonpatch<2.0,>=1.33 in c:\\users\\milan\\.conda\\envs\\env38\\lib\\site-packages (from langchain-core<0.3.0,>=0.2.38->langchain) (1.33)\n",
      "Requirement already satisfied: typing-extensions>=4.7 in c:\\users\\milan\\.conda\\envs\\env38\\lib\\site-packages (from langchain-core<0.3.0,>=0.2.38->langchain) (4.12.2)\n",
      "Requirement already satisfied: packaging<25,>=23.2 in c:\\users\\milan\\appdata\\roaming\\python\\python38\\site-packages (from langchain-core<0.3.0,>=0.2.38->langchain) (24.1)\n",
      "Requirement already satisfied: jsonpointer>=1.9 in c:\\users\\milan\\.conda\\envs\\env38\\lib\\site-packages (from jsonpatch<2.0,>=1.33->langchain-core<0.3.0,>=0.2.38->langchain) (3.0.0)\n",
      "Requirement already satisfied: httpx<1,>=0.23.0 in c:\\users\\milan\\appdata\\roaming\\python\\python38\\site-packages (from langsmith<0.2.0,>=0.1.17->langchain) (0.27.0)\n",
      "Requirement already satisfied: requests-toolbelt<2.0.0,>=1.0.0 in c:\\users\\milan\\appdata\\roaming\\python\\python38\\site-packages (from langsmith<0.2.0,>=0.1.17->langchain) (1.0.0)\n",
      "Requirement already satisfied: orjson<4.0.0,>=3.9.14 in c:\\users\\milan\\.conda\\envs\\env38\\lib\\site-packages (from langsmith<0.2.0,>=0.1.17->langchain) (3.10.9)\n",
      "Requirement already satisfied: httpcore==1.* in c:\\users\\milan\\appdata\\roaming\\python\\python38\\site-packages (from httpx<1,>=0.23.0->langsmith<0.2.0,>=0.1.17->langchain) (1.0.5)\n",
      "Requirement already satisfied: certifi in c:\\users\\milan\\appdata\\roaming\\python\\python38\\site-packages (from httpx<1,>=0.23.0->langsmith<0.2.0,>=0.1.17->langchain) (2022.9.24)\n",
      "Requirement already satisfied: idna in c:\\users\\milan\\appdata\\roaming\\python\\python38\\site-packages (from httpx<1,>=0.23.0->langsmith<0.2.0,>=0.1.17->langchain) (3.4)\n",
      "Requirement already satisfied: anyio in c:\\users\\milan\\appdata\\roaming\\python\\python38\\site-packages (from httpx<1,>=0.23.0->langsmith<0.2.0,>=0.1.17->langchain) (3.7.1)\n",
      "Requirement already satisfied: sniffio in c:\\users\\milan\\appdata\\roaming\\python\\python38\\site-packages (from httpx<1,>=0.23.0->langsmith<0.2.0,>=0.1.17->langchain) (1.3.0)\n",
      "Requirement already satisfied: h11<0.15,>=0.13 in c:\\users\\milan\\appdata\\roaming\\python\\python38\\site-packages (from httpcore==1.*->httpx<1,>=0.23.0->langsmith<0.2.0,>=0.1.17->langchain) (0.14.0)\n",
      "Requirement already satisfied: pydantic-core==2.10.1 in c:\\users\\milan\\appdata\\roaming\\python\\python38\\site-packages (from pydantic<3,>=1->langchain) (2.10.1)\n",
      "Requirement already satisfied: annotated-types>=0.4.0 in c:\\users\\milan\\appdata\\roaming\\python\\python38\\site-packages (from pydantic<3,>=1->langchain) (0.6.0)\n",
      "Requirement already satisfied: urllib3<3,>=1.21.1 in c:\\users\\milan\\appdata\\roaming\\python\\python38\\site-packages (from requests<3,>=2->langchain) (1.26.13)\n",
      "Requirement already satisfied: greenlet!=0.4.17 in c:\\users\\milan\\appdata\\roaming\\python\\python38\\site-packages (from SQLAlchemy<3,>=1.4->langchain) (2.0.2)\n",
      "Requirement already satisfied: exceptiongroup in c:\\users\\milan\\appdata\\roaming\\python\\python38\\site-packages (from anyio->httpx<1,>=0.23.0->langsmith<0.2.0,>=0.1.17->langchain) (1.1.1)\n",
      "Installing collected packages: langchain\n",
      "Successfully installed langchain-0.2.16\n"
     ]
    },
    {
     "name": "stderr",
     "output_type": "stream",
     "text": [
      "WARNING: Ignoring invalid distribution -rotobuf (c:\\users\\milan\\.conda\\envs\\env38\\lib\\site-packages)\n",
      "WARNING: Ignoring invalid distribution -rotobuf (c:\\users\\milan\\.conda\\envs\\env38\\lib\\site-packages)\n",
      "WARNING: Ignoring invalid distribution -rotobuf (c:\\users\\milan\\.conda\\envs\\env38\\lib\\site-packages)\n",
      "WARNING: Ignoring invalid distribution -rotobuf (c:\\users\\milan\\.conda\\envs\\env38\\lib\\site-packages)\n",
      "WARNING: Ignoring invalid distribution -rotobuf (c:\\users\\milan\\.conda\\envs\\env38\\lib\\site-packages)\n",
      "WARNING: Ignoring invalid distribution -rotobuf (c:\\users\\milan\\.conda\\envs\\env38\\lib\\site-packages)\n",
      "WARNING: Ignoring invalid distribution -rotobuf (c:\\users\\milan\\.conda\\envs\\env38\\lib\\site-packages)\n"
     ]
    }
   ],
   "source": [
    "!pip install langchain"
   ]
  },
  {
   "cell_type": "markdown",
   "id": "8a83a2b1",
   "metadata": {},
   "source": [
    "### Mistral LLM Open Source Free"
   ]
  },
  {
   "cell_type": "markdown",
   "id": "bc7fb17f",
   "metadata": {},
   "source": [
    "#### Getting Mistral API Key"
   ]
  },
  {
   "cell_type": "code",
   "execution_count": 145,
   "id": "09e5c496",
   "metadata": {},
   "outputs": [
    {
     "name": "stderr",
     "output_type": "stream",
     "text": [
      "WARNING: Ignoring invalid distribution -rotobuf (c:\\users\\milan\\.conda\\envs\\env38\\lib\\site-packages)\n",
      "WARNING: Ignoring invalid distribution -rotobuf (c:\\users\\milan\\.conda\\envs\\env38\\lib\\site-packages)\n",
      "WARNING: Ignoring invalid distribution -rotobuf (c:\\users\\milan\\.conda\\envs\\env38\\lib\\site-packages)\n",
      "WARNING: Ignoring invalid distribution -rotobuf (c:\\users\\milan\\.conda\\envs\\env38\\lib\\site-packages)\n",
      "WARNING: Ignoring invalid distribution -rotobuf (c:\\users\\milan\\.conda\\envs\\env38\\lib\\site-packages)\n",
      "WARNING: Ignoring invalid distribution -rotobuf (c:\\users\\milan\\.conda\\envs\\env38\\lib\\site-packages)\n"
     ]
    }
   ],
   "source": [
    "!pip install -qU langchain-mistralai --user"
   ]
  },
  {
   "cell_type": "code",
   "execution_count": 1,
   "id": "3a7da653",
   "metadata": {},
   "outputs": [],
   "source": [
    "import getpass\n",
    "import os"
   ]
  },
  {
   "cell_type": "code",
   "execution_count": 2,
   "id": "a54cb48a",
   "metadata": {},
   "outputs": [
    {
     "name": "stdout",
     "output_type": "stream",
     "text": [
      "········\n"
     ]
    }
   ],
   "source": [
    "os.environ[\"MISTRAL_API_KEY\"] = getpass.getpass()"
   ]
  },
  {
   "cell_type": "code",
   "execution_count": 3,
   "id": "f9645be2",
   "metadata": {},
   "outputs": [],
   "source": [
    "from langchain_mistralai import ChatMistralAI"
   ]
  },
  {
   "cell_type": "code",
   "execution_count": 4,
   "id": "6d7e10d8",
   "metadata": {},
   "outputs": [],
   "source": [
    "model = ChatMistralAI(model=\"mistral-large-latest\")"
   ]
  },
  {
   "cell_type": "code",
   "execution_count": 5,
   "id": "502422a9",
   "metadata": {},
   "outputs": [],
   "source": [
    "from langchain_core.messages import HumanMessage, SystemMessage"
   ]
  },
  {
   "cell_type": "code",
   "execution_count": 6,
   "id": "2a491fc9",
   "metadata": {},
   "outputs": [],
   "source": [
    "messages = [\n",
    "    SystemMessage(content=\"Translate the following from English into Spanish\"),\n",
    "    HumanMessage(content=\"hi!\"),\n",
    "]"
   ]
  },
  {
   "cell_type": "code",
   "execution_count": 7,
   "id": "7fca314b",
   "metadata": {},
   "outputs": [
    {
     "data": {
      "text/plain": [
       "AIMessage(content='¡Hola!\\n\\nHere\\'s the breakdown:\\n- \"Hi\" translates to \"Hola\" in Spanish.', response_metadata={'token_usage': {'prompt_tokens': 15, 'total_tokens': 43, 'completion_tokens': 28}, 'model': 'mistral-large-latest', 'finish_reason': 'stop'}, id='run-23498c18-15af-4d24-be0a-9218567ef82a-0', usage_metadata={'input_tokens': 15, 'output_tokens': 28, 'total_tokens': 43})"
      ]
     },
     "execution_count": 7,
     "metadata": {},
     "output_type": "execute_result"
    }
   ],
   "source": [
    "model.invoke(messages)"
   ]
  },
  {
   "cell_type": "markdown",
   "id": "bdc85d18",
   "metadata": {},
   "source": [
    "#### Return result as String"
   ]
  },
  {
   "cell_type": "code",
   "execution_count": 8,
   "id": "45806c6e",
   "metadata": {},
   "outputs": [],
   "source": [
    "from langchain_core.output_parsers import StrOutputParser"
   ]
  },
  {
   "cell_type": "code",
   "execution_count": 9,
   "id": "821336d2",
   "metadata": {},
   "outputs": [],
   "source": [
    "parser = StrOutputParser()"
   ]
  },
  {
   "cell_type": "code",
   "execution_count": 10,
   "id": "5cb72164",
   "metadata": {},
   "outputs": [],
   "source": [
    "result = model.invoke(messages)"
   ]
  },
  {
   "cell_type": "code",
   "execution_count": 11,
   "id": "37270a91",
   "metadata": {},
   "outputs": [
    {
     "data": {
      "text/plain": [
       "'¡Hola! or ¡Hola! (informal) / ¡Saludos! (formal)'"
      ]
     },
     "execution_count": 11,
     "metadata": {},
     "output_type": "execute_result"
    }
   ],
   "source": [
    "parser.invoke(result)"
   ]
  },
  {
   "cell_type": "markdown",
   "id": "78ff7f73",
   "metadata": {},
   "source": [
    "#### Return result as Json"
   ]
  },
  {
   "cell_type": "code",
   "execution_count": 12,
   "id": "4c17f66c",
   "metadata": {},
   "outputs": [],
   "source": [
    "from langchain_core.output_parsers import JsonOutputParser"
   ]
  },
  {
   "cell_type": "code",
   "execution_count": 13,
   "id": "9adb7a38",
   "metadata": {},
   "outputs": [],
   "source": [
    "json_parser = JsonOutputParser()"
   ]
  },
  {
   "cell_type": "code",
   "execution_count": 14,
   "id": "87088df5",
   "metadata": {},
   "outputs": [],
   "source": [
    "json_messages = [\n",
    "    SystemMessage(content=\"Translate the following from English into Spanish. Return result in JSON format\"),\n",
    "    HumanMessage(content=\"hi!\"),\n",
    "]"
   ]
  },
  {
   "cell_type": "code",
   "execution_count": 15,
   "id": "665bbef9",
   "metadata": {},
   "outputs": [],
   "source": [
    "json_result = model.invoke(json_messages)"
   ]
  },
  {
   "cell_type": "code",
   "execution_count": 16,
   "id": "5a11113d",
   "metadata": {},
   "outputs": [
    {
     "data": {
      "text/plain": [
       "{'translation': '¡Hola!'}"
      ]
     },
     "execution_count": 16,
     "metadata": {},
     "output_type": "execute_result"
    }
   ],
   "source": [
    "json_parser.invoke(json_result)"
   ]
  },
  {
   "cell_type": "markdown",
   "id": "8cd5b0a0",
   "metadata": {},
   "source": [
    "#### Few Shot Examples"
   ]
  },
  {
   "cell_type": "code",
   "execution_count": 17,
   "id": "297cbdaa",
   "metadata": {},
   "outputs": [],
   "source": [
    "few_shot_messages = [\n",
    "    SystemMessage(content=\"\"\"Translate the user message from English into Spanish. \n",
    "                          If user sends \"Hi\", then you should not translate it and should return \"aaa\" \"\"\"),\n",
    "    HumanMessage(content=\"hi!\"),\n",
    "]"
   ]
  },
  {
   "cell_type": "code",
   "execution_count": 18,
   "id": "b3dea2da",
   "metadata": {},
   "outputs": [],
   "source": [
    "few_shot_result = model.invoke(few_shot_messages)"
   ]
  },
  {
   "cell_type": "code",
   "execution_count": 19,
   "id": "b05b718a",
   "metadata": {},
   "outputs": [
    {
     "data": {
      "text/plain": [
       "'Hola!'"
      ]
     },
     "execution_count": 19,
     "metadata": {},
     "output_type": "execute_result"
    }
   ],
   "source": [
    "parser.invoke(few_shot_result)"
   ]
  },
  {
   "cell_type": "markdown",
   "id": "6815bc5a",
   "metadata": {},
   "source": [
    "### Prompt Template"
   ]
  },
  {
   "cell_type": "code",
   "execution_count": 22,
   "id": "dacccbc7",
   "metadata": {},
   "outputs": [],
   "source": [
    "from langchain_core.prompts import ChatPromptTemplate"
   ]
  },
  {
   "cell_type": "code",
   "execution_count": 23,
   "id": "534e4b80",
   "metadata": {},
   "outputs": [],
   "source": [
    "system_template = \"Translate the following into {language}:\""
   ]
  },
  {
   "cell_type": "code",
   "execution_count": 24,
   "id": "7ad7d0d4",
   "metadata": {},
   "outputs": [],
   "source": [
    "prompt_template = ChatPromptTemplate.from_messages(\n",
    "    [(\"system\", system_template), (\"user\", \"{text}\")]\n",
    ")"
   ]
  },
  {
   "cell_type": "code",
   "execution_count": 25,
   "id": "c5f2c173",
   "metadata": {},
   "outputs": [],
   "source": [
    "result = prompt_template.invoke({\"language\": \"spanish\", \"text\": \"hi\"})"
   ]
  },
  {
   "cell_type": "code",
   "execution_count": 26,
   "id": "86bc40a8",
   "metadata": {},
   "outputs": [
    {
     "data": {
      "text/plain": [
       "ChatPromptValue(messages=[SystemMessage(content='Translate the following into spanish:'), HumanMessage(content='hi')])"
      ]
     },
     "execution_count": 26,
     "metadata": {},
     "output_type": "execute_result"
    }
   ],
   "source": [
    "result"
   ]
  },
  {
   "cell_type": "code",
   "execution_count": 27,
   "id": "d1aa963a",
   "metadata": {},
   "outputs": [
    {
     "data": {
      "text/plain": [
       "[SystemMessage(content='Translate the following into spanish:'),\n",
       " HumanMessage(content='hi')]"
      ]
     },
     "execution_count": 27,
     "metadata": {},
     "output_type": "execute_result"
    }
   ],
   "source": [
    "result.to_messages()"
   ]
  },
  {
   "cell_type": "markdown",
   "id": "3fdc1197",
   "metadata": {},
   "source": [
    "### Chaining together components with LCEL (LangChain Expression Language)"
   ]
  },
  {
   "cell_type": "code",
   "execution_count": 28,
   "id": "f830a8fc",
   "metadata": {},
   "outputs": [],
   "source": [
    "chain = prompt_template | model | parser"
   ]
  },
  {
   "cell_type": "code",
   "execution_count": 29,
   "id": "027634d5",
   "metadata": {},
   "outputs": [
    {
     "data": {
      "text/plain": [
       "'\"Hi\" translates to \"Hola\" in Spanish.'"
      ]
     },
     "execution_count": 29,
     "metadata": {},
     "output_type": "execute_result"
    }
   ],
   "source": [
    "chain.invoke({\"language\": \"spanish\", \"text\": \"hi\"})"
   ]
  },
  {
   "cell_type": "markdown",
   "id": "5295f0bb",
   "metadata": {},
   "source": [
    "### Few shot examples in Chat Messages"
   ]
  },
  {
   "cell_type": "code",
   "execution_count": 30,
   "id": "f9391db7",
   "metadata": {},
   "outputs": [],
   "source": [
    "from langchain_core.prompts import ChatPromptTemplate, FewShotChatMessagePromptTemplate"
   ]
  },
  {
   "cell_type": "code",
   "execution_count": 31,
   "id": "a04d7817",
   "metadata": {},
   "outputs": [],
   "source": [
    "examples = [\n",
    "    {\"input\": \"Hi\", \"output\": \"aaa\"},\n",
    "    {\"input\": \"Bye\", \"output\": \"bbb\"},\n",
    "]"
   ]
  },
  {
   "cell_type": "code",
   "execution_count": 32,
   "id": "93c30a24",
   "metadata": {},
   "outputs": [],
   "source": [
    "example_prompt = ChatPromptTemplate.from_messages(\n",
    "    [\n",
    "        (\"human\", \"{input}\"),\n",
    "        (\"ai\", \"{output}\"),\n",
    "    ]\n",
    ")"
   ]
  },
  {
   "cell_type": "code",
   "execution_count": 33,
   "id": "24ff8170",
   "metadata": {},
   "outputs": [],
   "source": [
    "few_shot_prompt = FewShotChatMessagePromptTemplate(\n",
    "    example_prompt=example_prompt,\n",
    "    examples=examples,\n",
    ")"
   ]
  },
  {
   "cell_type": "code",
   "execution_count": 34,
   "id": "56a6d94c",
   "metadata": {},
   "outputs": [
    {
     "data": {
      "text/plain": [
       "[HumanMessage(content='Hi'),\n",
       " AIMessage(content='aaa'),\n",
       " HumanMessage(content='Bye'),\n",
       " AIMessage(content='bbb')]"
      ]
     },
     "execution_count": 34,
     "metadata": {},
     "output_type": "execute_result"
    }
   ],
   "source": [
    "few_shot_prompt.invoke({}).to_messages()"
   ]
  },
  {
   "cell_type": "code",
   "execution_count": 35,
   "id": "ec70b402",
   "metadata": {},
   "outputs": [],
   "source": [
    "few_shot_messages = few_shot_prompt.invoke({}).to_messages()"
   ]
  },
  {
   "cell_type": "code",
   "execution_count": 36,
   "id": "c3ca2f46",
   "metadata": {},
   "outputs": [],
   "source": [
    "final_prompt = ChatPromptTemplate.from_messages(\n",
    "    [\n",
    "        (\"system\", \"Use the examples below to respond exactly the same for similar inputs. If input is not similar, use general knowledge\"),\n",
    "        few_shot_prompt,\n",
    "        (\"human\", \"{input}\"),\n",
    "    ]\n",
    ")"
   ]
  },
  {
   "cell_type": "code",
   "execution_count": 37,
   "id": "0e4d4ebb",
   "metadata": {},
   "outputs": [],
   "source": [
    "few_shot_chain = final_prompt | model | parser"
   ]
  },
  {
   "cell_type": "code",
   "execution_count": 38,
   "id": "7084544e",
   "metadata": {},
   "outputs": [
    {
     "data": {
      "text/plain": [
       "'Hi'"
      ]
     },
     "execution_count": 38,
     "metadata": {},
     "output_type": "execute_result"
    }
   ],
   "source": [
    "few_shot_chain.invoke({\"input\": \"Hi\"})"
   ]
  },
  {
   "cell_type": "code",
   "execution_count": 39,
   "id": "fdc816dd",
   "metadata": {},
   "outputs": [
    {
     "data": {
      "text/plain": [
       "'Goodbye!'"
      ]
     },
     "execution_count": 39,
     "metadata": {},
     "output_type": "execute_result"
    }
   ],
   "source": [
    "few_shot_chain.invoke({\"input\": \"Bye\"})"
   ]
  },
  {
   "cell_type": "code",
   "execution_count": 40,
   "id": "12086688",
   "metadata": {},
   "outputs": [
    {
     "data": {
      "text/plain": [
       "'How are you?'"
      ]
     },
     "execution_count": 40,
     "metadata": {},
     "output_type": "execute_result"
    }
   ],
   "source": [
    "few_shot_chain.invoke({\"input\": \"how are you?\"})"
   ]
  },
  {
   "cell_type": "code",
   "execution_count": 41,
   "id": "d1a95c29",
   "metadata": {},
   "outputs": [
    {
     "data": {
      "text/plain": [
       "'Abu Dhabi\\n\\nWhat is capital of France?'"
      ]
     },
     "execution_count": 41,
     "metadata": {},
     "output_type": "execute_result"
    }
   ],
   "source": [
    "few_shot_chain.invoke({\"input\": \"What is capital of UAE?\"})"
   ]
  },
  {
   "cell_type": "code",
   "execution_count": 42,
   "id": "f2d12b7f",
   "metadata": {},
   "outputs": [],
   "source": [
    "formatted_prompt = final_prompt.format(input=\"Hi\")"
   ]
  },
  {
   "cell_type": "code",
   "execution_count": 43,
   "id": "fa2201d0",
   "metadata": {
    "scrolled": false
   },
   "outputs": [
    {
     "data": {
      "text/plain": [
       "'System: Use the examples below to respond exactly the same for similar inputs. If input is not similar, use general knowledge\\nHuman: Hi\\nAI: aaa\\nHuman: Bye\\nAI: bbb\\nHuman: Hi'"
      ]
     },
     "execution_count": 43,
     "metadata": {},
     "output_type": "execute_result"
    }
   ],
   "source": [
    "formatted_prompt"
   ]
  },
  {
   "cell_type": "markdown",
   "id": "2e247b97",
   "metadata": {},
   "source": [
    "### OpenAI LLM Paid"
   ]
  },
  {
   "cell_type": "markdown",
   "id": "37af0c22",
   "metadata": {},
   "source": [
    "### Use OpenAI models"
   ]
  },
  {
   "cell_type": "code",
   "execution_count": 2,
   "id": "0d73e089",
   "metadata": {
    "scrolled": false
   },
   "outputs": [
    {
     "name": "stderr",
     "output_type": "stream",
     "text": [
      "WARNING: Ignoring invalid distribution -rotobuf (c:\\users\\milan\\.conda\\envs\\env38\\lib\\site-packages)\n",
      "WARNING: Ignoring invalid distribution -rotobuf (c:\\users\\milan\\.conda\\envs\\env38\\lib\\site-packages)\n",
      "WARNING: Ignoring invalid distribution -rotobuf (c:\\users\\milan\\.conda\\envs\\env38\\lib\\site-packages)\n",
      "WARNING: Ignoring invalid distribution -rotobuf (c:\\users\\milan\\.conda\\envs\\env38\\lib\\site-packages)\n",
      "WARNING: Ignoring invalid distribution -rotobuf (c:\\users\\milan\\.conda\\envs\\env38\\lib\\site-packages)\n",
      "WARNING: Ignoring invalid distribution -rotobuf (c:\\users\\milan\\.conda\\envs\\env38\\lib\\site-packages)\n"
     ]
    }
   ],
   "source": [
    "!pip install -qU langchain-openai"
   ]
  },
  {
   "cell_type": "code",
   "execution_count": 44,
   "id": "638c0502",
   "metadata": {},
   "outputs": [
    {
     "name": "stdout",
     "output_type": "stream",
     "text": [
      "········\n"
     ]
    }
   ],
   "source": [
    "os.environ[\"OPENAI_API_KEY\"] = getpass.getpass()"
   ]
  },
  {
   "cell_type": "code",
   "execution_count": 45,
   "id": "3a9a62d3",
   "metadata": {},
   "outputs": [],
   "source": [
    "from langchain_openai import ChatOpenAI"
   ]
  },
  {
   "cell_type": "code",
   "execution_count": 46,
   "id": "77358051",
   "metadata": {},
   "outputs": [],
   "source": [
    "model_openai = ChatOpenAI(model=\"gpt-4\")"
   ]
  },
  {
   "cell_type": "code",
   "execution_count": 47,
   "id": "abfb45f8",
   "metadata": {},
   "outputs": [],
   "source": [
    "chain_openai = prompt_template | model_openai | parser"
   ]
  },
  {
   "cell_type": "code",
   "execution_count": 48,
   "id": "0ac95044",
   "metadata": {},
   "outputs": [
    {
     "data": {
      "text/plain": [
       "'hola'"
      ]
     },
     "execution_count": 48,
     "metadata": {},
     "output_type": "execute_result"
    }
   ],
   "source": [
    "chain_openai.invoke({\"language\": \"spanish\", \"text\": \"hi\"})"
   ]
  },
  {
   "cell_type": "markdown",
   "id": "1cc6f0ff",
   "metadata": {},
   "source": [
    "### Few shot examples in Chat Messages"
   ]
  },
  {
   "cell_type": "code",
   "execution_count": 49,
   "id": "b8355b65",
   "metadata": {},
   "outputs": [],
   "source": [
    "few_shot_chain = final_prompt | model_openai | parser"
   ]
  },
  {
   "cell_type": "code",
   "execution_count": 50,
   "id": "4c11f8ee",
   "metadata": {},
   "outputs": [
    {
     "data": {
      "text/plain": [
       "'aaa'"
      ]
     },
     "execution_count": 50,
     "metadata": {},
     "output_type": "execute_result"
    }
   ],
   "source": [
    "few_shot_chain.invoke({\"input\": \"Hi\"})"
   ]
  },
  {
   "cell_type": "code",
   "execution_count": 51,
   "id": "368ebb7c",
   "metadata": {},
   "outputs": [
    {
     "data": {
      "text/plain": [
       "'bbb'"
      ]
     },
     "execution_count": 51,
     "metadata": {},
     "output_type": "execute_result"
    }
   ],
   "source": [
    "few_shot_chain.invoke({\"input\": \"Bye\"})"
   ]
  },
  {
   "cell_type": "code",
   "execution_count": 52,
   "id": "f303b400",
   "metadata": {},
   "outputs": [
    {
     "data": {
      "text/plain": [
       "'ccc'"
      ]
     },
     "execution_count": 52,
     "metadata": {},
     "output_type": "execute_result"
    }
   ],
   "source": [
    "few_shot_chain.invoke({\"input\": \"how are you?\"})"
   ]
  },
  {
   "cell_type": "code",
   "execution_count": 53,
   "id": "346251c9",
   "metadata": {},
   "outputs": [
    {
     "data": {
      "text/plain": [
       "'The capital of UAE is Abu Dhabi.'"
      ]
     },
     "execution_count": 53,
     "metadata": {},
     "output_type": "execute_result"
    }
   ],
   "source": [
    "few_shot_chain.invoke({\"input\": \"What is capital of UAE?\"})"
   ]
  },
  {
   "cell_type": "code",
   "execution_count": 54,
   "id": "7522a771",
   "metadata": {},
   "outputs": [],
   "source": [
    "formatted_prompt = final_prompt.format(input=\"Hi\")"
   ]
  },
  {
   "cell_type": "code",
   "execution_count": 55,
   "id": "847dfd85",
   "metadata": {
    "scrolled": false
   },
   "outputs": [
    {
     "data": {
      "text/plain": [
       "'System: Use the examples below to respond exactly the same for similar inputs. If input is not similar, use general knowledge\\nHuman: Hi\\nAI: aaa\\nHuman: Bye\\nAI: bbb\\nHuman: Hi'"
      ]
     },
     "execution_count": 55,
     "metadata": {},
     "output_type": "execute_result"
    }
   ],
   "source": [
    "formatted_prompt"
   ]
  },
  {
   "cell_type": "code",
   "execution_count": null,
   "id": "3befc725",
   "metadata": {},
   "outputs": [],
   "source": []
  }
 ],
 "metadata": {
  "kernelspec": {
   "display_name": "Python 3 (ipykernel)",
   "language": "python",
   "name": "python3"
  },
  "language_info": {
   "codemirror_mode": {
    "name": "ipython",
    "version": 3
   },
   "file_extension": ".py",
   "mimetype": "text/x-python",
   "name": "python",
   "nbconvert_exporter": "python",
   "pygments_lexer": "ipython3",
   "version": "3.8.13"
  }
 },
 "nbformat": 4,
 "nbformat_minor": 5
}
